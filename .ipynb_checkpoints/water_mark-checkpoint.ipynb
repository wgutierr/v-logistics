{
 "cells": [
  {
   "cell_type": "code",
   "execution_count": 2,
   "id": "b6be1a67-8b7e-49c0-9bd7-88e8c70ab371",
   "metadata": {},
   "outputs": [
    {
     "name": "stdout",
     "output_type": "stream",
     "text": [
      "Collecting PyPDF2\n",
      "  Downloading pypdf2-3.0.1-py3-none-any.whl.metadata (6.8 kB)\n",
      "Collecting reportlab\n",
      "  Downloading reportlab-4.4.1-py3-none-any.whl.metadata (1.8 kB)\n",
      "Requirement already satisfied: pillow>=9.0.0 in c:\\users\\wilfe\\anaconda3\\envs\\env_dec_24\\lib\\site-packages (from reportlab) (10.3.0)\n",
      "Requirement already satisfied: chardet in c:\\users\\wilfe\\anaconda3\\envs\\env_dec_24\\lib\\site-packages (from reportlab) (4.0.0)\n",
      "Downloading pypdf2-3.0.1-py3-none-any.whl (232 kB)\n",
      "   ---------------------------------------- 0.0/232.6 kB ? eta -:--:--\n",
      "   ---------------------------------------- 0.0/232.6 kB ? eta -:--:--\n",
      "   - -------------------------------------- 10.2/232.6 kB ? eta -:--:--\n",
      "   ----- --------------------------------- 30.7/232.6 kB 330.3 kB/s eta 0:00:01\n",
      "   ------ -------------------------------- 41.0/232.6 kB 281.8 kB/s eta 0:00:01\n",
      "   ------------ -------------------------- 71.7/232.6 kB 438.9 kB/s eta 0:00:01\n",
      "   -------------------- ----------------- 122.9/232.6 kB 602.4 kB/s eta 0:00:01\n",
      "   ------------------------------ ------- 184.3/232.6 kB 696.3 kB/s eta 0:00:01\n",
      "   -------------------------------------- 232.6/232.6 kB 839.0 kB/s eta 0:00:00\n",
      "Downloading reportlab-4.4.1-py3-none-any.whl (2.0 MB)\n",
      "   ---------------------------------------- 0.0/2.0 MB ? eta -:--:--\n",
      "   ---- ----------------------------------- 0.2/2.0 MB 6.1 MB/s eta 0:00:01\n",
      "   ------- -------------------------------- 0.4/2.0 MB 4.5 MB/s eta 0:00:01\n",
      "   ------------- -------------------------- 0.6/2.0 MB 5.8 MB/s eta 0:00:01\n",
      "   ------------------ --------------------- 0.9/2.0 MB 5.7 MB/s eta 0:00:01\n",
      "   ------------------------------- -------- 1.5/2.0 MB 8.2 MB/s eta 0:00:01\n",
      "   ---------------------------------------  1.9/2.0 MB 8.8 MB/s eta 0:00:01\n",
      "   ---------------------------------------- 2.0/2.0 MB 8.3 MB/s eta 0:00:00\n",
      "Installing collected packages: reportlab, PyPDF2\n",
      "Successfully installed PyPDF2-3.0.1 reportlab-4.4.1\n"
     ]
    }
   ],
   "source": [
    "!pip install PyPDF2 reportlab"
   ]
  },
  {
   "cell_type": "code",
   "execution_count": 3,
   "id": "c88c0877-587a-4e0c-9378-cfc88902a177",
   "metadata": {},
   "outputs": [],
   "source": [
    "from PyPDF2 import PdfReader, PdfWriter\n",
    "from reportlab.pdfgen import canvas\n",
    "from reportlab.lib.pagesizes import letter\n",
    "import io"
   ]
  },
  {
   "cell_type": "code",
   "execution_count": 4,
   "id": "799ce058-b14b-4c57-bcf9-af737823ffef",
   "metadata": {},
   "outputs": [],
   "source": [
    "def create_watermark(text):\n",
    "    packet = io.BytesIO()\n",
    "    can = canvas.Canvas(packet, pagesize=letter)\n",
    "    can.setFont(\"Helvetica\", 40)\n",
    "    can.setFillColorRGB(0.7, 0.7, 0.7, alpha=0.3)  # Gris claro y transparente\n",
    "    can.saveState()\n",
    "    can.translate(300, 400)\n",
    "    can.rotate(45)\n",
    "    can.drawCentredString(0, 0, text)\n",
    "    can.restoreState()\n",
    "    can.save()\n",
    "    packet.seek(0)\n",
    "    return PdfReader(packet)\n",
    "\n",
    "def add_watermark(input_pdf, output_pdf, watermark_text):\n",
    "    watermark = create_watermark(watermark_text)\n",
    "    reader = PdfReader(input_pdf)\n",
    "    writer = PdfWriter()\n",
    "\n",
    "    for page in reader.pages:\n",
    "        page.merge_page(watermark.pages[0])\n",
    "        writer.add_page(page)\n",
    "\n",
    "    with open(output_pdf, \"wb\") as output_file:\n",
    "        writer.write(output_file)\n"
   ]
  },
  {
   "cell_type": "code",
   "execution_count": null,
   "id": "de21cb7b-bda1-490e-95d1-115e79b060f5",
   "metadata": {},
   "outputs": [],
   "source": [
    "# Uso:\n",
    "add_watermark(\"documento_original.pdf\", \"documento_marcado.pdf\", \"COPIA NO VÁLIDA\")"
   ]
  },
  {
   "cell_type": "code",
   "execution_count": null,
   "id": "08b5f897-b42e-4bbc-805b-b3dc4ce9ad2a",
   "metadata": {},
   "outputs": [],
   "source": [
    "# Coloca el nombre de tu archivo original aquí\n",
    "archivo_pdf = \"mi_archivo.pdf\"  # cámbialo si tu archivo tiene otro nombre\n",
    "\n",
    "# Verifica que existe\n",
    "if os.path.exists(archivo_pdf):\n",
    "    crear_marca_agua()\n",
    "    aplicar_marca_agua(archivo_pdf)\n",
    "else:\n",
    "    print(f\"❌ El archivo '{archivo_pdf}' no se encontró en esta carpeta.\")"
   ]
  }
 ],
 "metadata": {
  "kernelspec": {
   "display_name": "Python 3 (ipykernel)",
   "language": "python",
   "name": "python3"
  },
  "language_info": {
   "codemirror_mode": {
    "name": "ipython",
    "version": 3
   },
   "file_extension": ".py",
   "mimetype": "text/x-python",
   "name": "python",
   "nbconvert_exporter": "python",
   "pygments_lexer": "ipython3",
   "version": "3.11.9"
  }
 },
 "nbformat": 4,
 "nbformat_minor": 5
}
